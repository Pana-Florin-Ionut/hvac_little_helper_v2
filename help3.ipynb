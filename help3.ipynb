{
 "cells": [
  {
   "cell_type": "code",
   "execution_count": 6,
   "metadata": {},
   "outputs": [
    {
     "name": "stdout",
     "output_type": "stream",
     "text": [
      "111111\n"
     ]
    }
   ],
   "source": [
    "dic1 = {\n",
    "    \"one\": \"111111\",\n",
    "    \"two\": \"222222\",\n",
    "    \"three\": \"33333\"\n",
    "}\n",
    "\n",
    "print(dic1[\"one\"])"
   ]
  },
  {
   "cell_type": "code",
   "execution_count": 1,
   "metadata": {},
   "outputs": [
    {
     "name": "stdout",
     "output_type": "stream",
     "text": [
      "Windows\n"
     ]
    }
   ],
   "source": [
    "import platform\n",
    "print(platform.system())"
   ]
  },
  {
   "cell_type": "code",
   "execution_count": 29,
   "metadata": {},
   "outputs": [
    {
     "name": "stdout",
     "output_type": "stream",
     "text": [
      "item1one twotwo\n",
      "item2one twotwo\n"
     ]
    }
   ],
   "source": [
    "dic1 = {}\n",
    "item1 = {\"one\": \"item1one\", \"two\": \"twotwo\"}\n",
    "item2 = {\"one\": \"item2one\", \"two\": \"twotwo\"}\n",
    "dic1 = {\"item1_key\": item1, \"item2_key\": item2}\n",
    "# print(dic1.get(\"item1_key\").get(\"one\"))\n",
    "# print(dic1.get(\"item1_key\").get(\"one\"))\n",
    "for values in dic1.items():\n",
    "    # print(item, values)\n",
    "    for value in values:\n",
    "        # print(type(value))\n",
    "        if type(value) is dict:\n",
    "            print(value.get(\"one\"), value.get(\"two\"))\n",
    "        \n"
   ]
  },
  {
   "cell_type": "code",
   "execution_count": 53,
   "metadata": {},
   "outputs": [
    {
     "name": "stdout",
     "output_type": "stream",
     "text": [
      "<class 'dict'>\n",
      "king\n",
      "There is honor\n"
     ]
    }
   ],
   "source": [
    "class CreateClasses():\n",
    "    def __init__(self, *args, name, characteristics, **kwargs):\n",
    "        self.name = name\n",
    "        self.characteristics = characteristics\n",
    "        self.args = args\n",
    "        self.kwargs = kwargs\n",
    "\n",
    "    def read_kwargs(self):\n",
    "        return self.kwargs\n",
    "\n",
    "\n",
    "test_class = CreateClasses(name=\"test\", characteristics=[1, 2, 3], title=\"king\", honor=True)\n",
    "\n",
    "print(type(test_class.read_kwargs()))\n",
    "print(test_class.read_kwargs().get(\"title\"))\n",
    "if test_class.read_kwargs().get(\"honor\"):\n",
    "    print(\"There is honor\")"
   ]
  },
  {
   "cell_type": "code",
   "execution_count": null,
   "metadata": {},
   "outputs": [
    {
     "name": "stdout",
     "output_type": "stream",
     "text": [
      "SELECT * FROM table WHERE dim_A = '300' AND dim_B = '400'\n",
      "400\n",
      "SELECT * FROM table WHERE dim_A = '300' AND dim_B = '400'AND dim_C = '500'\n",
      "500\n",
      "not value\n",
      "not value\n"
     ]
    }
   ],
   "source": [
    "item1 = [\"item1\", \"200\", \"300\", \"\", \"\", \"\"]\n",
    "item2 = [\"item2\", \"300\", \"400\", \"500\", \"\", \"\"]\n",
    "item3 = [\"item3\", \"100\", \"\", \"\", \"\", \"\"]\n",
    "\n",
    "item1_dimensions = [\"200\", \"300\", \"\", \"\", \"\"]\n",
    "item2_dimensions = [\"300\", \"400\", \"500\", \"\", \"\"]\n",
    "def check(items):\n",
    "    query = f\"SELECT * FROM table WHERE dim_A = '{items[0]}' \"\n",
    "    dims = [\"A\", \"B\", \"C\", \"D\", \"E\"]\n",
    "    for i, value in enumerate(items):\n",
    "        if i == 0:\n",
    "            pass\n",
    "        elif value:\n",
    "            query += f\"AND dim_{dims[i]} = \"\n",
    "            query += f\"'{value}'\"\n",
    "            print(query)\n",
    "            print(value)\n",
    "        else:\n",
    "            print(\"not value\")\n",
    "        \n",
    "check(item2_dimensions)\n",
    "\n"
   ]
  },
  {
   "cell_type": "code",
   "execution_count": 6,
   "metadata": {},
   "outputs": [
    {
     "name": "stdout",
     "output_type": "stream",
     "text": [
      "x+2 = 3\n",
      "x+2 = 3\n",
      "x-2 = 0\n",
      "x*2 = 6\n",
      "x+2 = 3\n",
      "x is 0\n",
      "x+2 = 3\n"
     ]
    }
   ],
   "source": [
    "def first_func(x):\n",
    "    print(f\"x+2 = {x + 2}\")\n",
    "def second_func(x):\n",
    "    print(f\"x-2 = {x-2}\")\n",
    "def third_func(x):\n",
    "    print(f\"x*2 = {x * 2}\")\n",
    "def default_func(x):\n",
    "    print(f\"x is {x}\")\n",
    "\n",
    "x_list = [1, 1, 2, 3, 1, 0, 1]\n",
    "actions = {1: first_func, 2:second_func, 3:third_func}\n",
    "\n",
    "for x in x_list:\n",
    "    action = actions.get(x, default_func)\n",
    "    action(x)\n"
   ]
  },
  {
   "cell_type": "code",
   "execution_count": 3,
   "metadata": {},
   "outputs": [
    {
     "name": "stdout",
     "output_type": "stream",
     "text": [
      "(0, [1, 'item1', 'supp1'])\n",
      "(2, [3, 'item1', 'supp2'])\n"
     ]
    }
   ],
   "source": [
    "items_list = [[1, \"item1\", \"supp1\"], [2, \"item2\", \"supp1\"], [3, \"item1\", \"supp2\"]]\n",
    "\n",
    "\n",
    "def search_item(x):\n",
    "    for i, item in enumerate(items_list):\n",
    "        if item[1] == x:\n",
    "            # print(item)\n",
    "            yield i, item\n",
    "\n",
    "for value in search_item(\"item1\"):\n",
    "    print(value)"
   ]
  },
  {
   "cell_type": "code",
   "execution_count": 2,
   "metadata": {},
   "outputs": [
    {
     "name": "stdout",
     "output_type": "stream",
     "text": [
      "[('id',), ('project_id',), ('item',), ('characteristics_a',), ('characteristics_b',), ('characteristics_c',), ('characteristics_d',), ('characteristics_e',), ('characteristics_f',), ('um',), ('quantity',), ('category',), ('observations',), ('product_type',), ('characteristics',), ('thickness',), ('area',), ('flanges',), ('corners',), ('price_per_sqm',), ('flanges_price',), ('corners_price',), ('price_per_um',), ('total_price',)]\n",
      "SECOND: ['id', 'project_id', 'item', 'characteristics_a', 'characteristics_b', 'characteristics_c', 'characteristics_d', 'characteristics_e', 'characteristics_f', 'um', 'quantity', 'category', 'observations', 'product_type', 'characteristics', 'thickness', 'area', 'flanges', 'corners', 'price_per_sqm', 'flanges_price', 'corners_price', 'price_per_um', 'total_price']\n"
     ]
    }
   ],
   "source": [
    "import pandas as pd\n",
    "import working_databases as database\n",
    "\n",
    "table = database.get_selected_table(\"test offer 3\")\n",
    "# print(table)\n",
    "\n",
    "columns = database.get_columns(\"test offer 3\")\n",
    "print(columns)\n",
    "columns = [column[0] for column in columns]\n",
    "print(f\"SECOND: {columns}\")\n",
    "# columns = [\"id\",\n",
    "#             \"project_id\",\n",
    "#             \"item\", \n",
    "#             \"characteristics_A\", \n",
    "#             \"characteristics_B\", \n",
    "#             \"characteristics_C\", \n",
    "#             \"characteristics_D\", \n",
    "#             \"characteristics_E\", \n",
    "#             \"characteristics_F\",\n",
    "#             \"um\", \n",
    "#             \"quantity\", \n",
    "#             \"category\",\n",
    "#             \"observations\",\n",
    "#             \"product_type\",\n",
    "#             \"characteristics\",\n",
    "#             \"thickness\",\n",
    "#             \"area\",\n",
    "#             \"flanges\",\n",
    "#             \"corners\",\n",
    "#             \"price_per_sqm\",\n",
    "#             \"flanges_price\",\n",
    "#             \"corners_price\",\n",
    "#             \"price_per_um\",\n",
    "#             \"total_price\"]\n",
    "# print(columns)\n",
    "# index = (item[0] for item in table)\n",
    "# print(index)\n",
    "\n",
    "df = pd.DataFrame(table, columns=columns)\n",
    "df.set_index(\"id\", inplace = True)\n",
    "# print(df)\n",
    "df.to_excel(\"excel_test.xlsx\")"
   ]
  },
  {
   "cell_type": "code",
   "execution_count": null,
   "metadata": {},
   "outputs": [],
   "source": []
  }
 ],
 "metadata": {
  "interpreter": {
   "hash": "1d212f58d6b9189dfda6544e976917714d9cd212aba67e7a54acb29a03a0597e"
  },
  "kernelspec": {
   "display_name": "Python 3.10.0 ('venv_folder': venv)",
   "language": "python",
   "name": "python3"
  },
  "language_info": {
   "codemirror_mode": {
    "name": "ipython",
    "version": 3
   },
   "file_extension": ".py",
   "mimetype": "text/x-python",
   "name": "python",
   "nbconvert_exporter": "python",
   "pygments_lexer": "ipython3",
   "version": "3.10.0"
  },
  "orig_nbformat": 4
 },
 "nbformat": 4,
 "nbformat_minor": 2
}
