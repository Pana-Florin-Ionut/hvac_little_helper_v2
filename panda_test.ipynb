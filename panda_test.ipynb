{
 "cells": [
  {
   "cell_type": "code",
   "execution_count": 2,
   "metadata": {},
   "outputs": [],
   "source": [
    "import pandas as pd"
   ]
  },
  {
   "cell_type": "code",
   "execution_count": 2,
   "metadata": {},
   "outputs": [],
   "source": [
    "df = pd.read_excel(\"C:/Users/Ionut Oprea/My Drive/Jobs/Proiecte/SELLM/Unitati Medicale Iasi/Parter.xlsx\")\n",
    "# print(df)\n",
    "# df1 = df.drop_duplicates().groupby([\"Nume\", \"UM\", \"Tip tubulatura\"], sort=False, as_index=False).sum().reset_index()\n",
    "df1 = df.drop_duplicates().groupby([\"Tip Produs\", \"A\", \"B\", \"C\", \"D\", \"E\",  \"UM\", \"Tip tubulatura\"], sort=False, dropna=False, as_index = False)[\"Cant\"].sum()\n",
    "# df1 = df.drop_duplicates().groupby([\"Nume\", \"A\", \"B\", \"C\", \"D\", \"E\",  \"UM\", \"Tip tubulatura\"], sort=False, dropna=False, as_index = False)[\"Cant\"].apply(np.sum)\n",
    "\n",
    "# print(df1)\n",
    "df1.to_excel(\"Parter_modificat.xlsx\")"
   ]
  },
  {
   "cell_type": "code",
   "execution_count": 3,
   "metadata": {},
   "outputs": [],
   "source": [
    "df = pd.read_excel(\"C:/Users/Ionut Oprea/My Drive/Jobs/Proiecte/SELLM/Hamilton/Global.xlsx\")\n",
    "# print(df)\n",
    "\n",
    "# df1 = df.drop_duplicates().groupby([\"Tip Produs\", \"A\", \"B\", \"C\", \"D\", \"E\",  \"UM\", \"Tip tubulatura\"], sort=False, dropna=False, as_index = False)[\"Cant\"].sum()\n",
    "df1 = df.drop_duplicates().groupby([\"Tip Produs\", \"Caracteristici\", \"UM\"], sort=False, dropna=False, as_index=False)[\"Cantitate\"].sum()\n",
    "\n",
    "# print(df1)\n",
    "df1.to_excel(\"Global restrans.xlsx\")"
   ]
  }
 ],
 "metadata": {
  "kernelspec": {
   "display_name": "Python 3.10.0 ('venv_folder': venv)",
   "language": "python",
   "name": "python3"
  },
  "language_info": {
   "codemirror_mode": {
    "name": "ipython",
    "version": 3
   },
   "file_extension": ".py",
   "mimetype": "text/x-python",
   "name": "python",
   "nbconvert_exporter": "python",
   "pygments_lexer": "ipython3",
   "version": "3.10.0"
  },
  "orig_nbformat": 4,
  "vscode": {
   "interpreter": {
    "hash": "1d212f58d6b9189dfda6544e976917714d9cd212aba67e7a54acb29a03a0597e"
   }
  }
 },
 "nbformat": 4,
 "nbformat_minor": 2
}
