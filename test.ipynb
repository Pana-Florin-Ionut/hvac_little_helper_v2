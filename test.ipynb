{
 "cells": [
  {
   "cell_type": "code",
   "execution_count": null,
   "metadata": {},
   "outputs": [],
   "source": [
    "from create_connections import get_connection\n",
    "import create_databases2 as database\n"
   ]
  },
  {
   "cell_type": "code",
   "execution_count": null,
   "metadata": {},
   "outputs": [],
   "source": [
    "\n",
    "def get_selected_table(table_name):\n",
    "    \"\"\"Return a table\"\"\"\n",
    "    with get_connection() as connection:\n",
    "        with connection.cursor() as cursor:\n",
    "            cursor.execute(database.query_select_table(table_name))\n",
    "            return cursor.fetchall()\n",
    "\n",
    "\n",
    "\n",
    "\n"
   ]
  },
  {
   "cell_type": "code",
   "execution_count": null,
   "metadata": {},
   "outputs": [],
   "source": [
    "items = {\"table_name\":\"Zn290\",\n",
    "         \"thickness\":\"2.3\",\n",
    "        \"price_per_ton\":\"2500\",\n",
    "         \"kg_per_sqm\": \"5\"}\n",
    "\n",
    "\n",
    "def insert_metal_sheet_price(**args):\n",
    "    with get_connection() as connection:\n",
    "        database.insert_into_metal_sheet_price(\n",
    "            connection, **args\n",
    "        )\n",
    "\n",
    "insert_metal_sheet_price(**items)\n",
    "get_selected_table(\"Zn290\")"
   ]
  },
  {
   "cell_type": "code",
   "execution_count": null,
   "metadata": {},
   "outputs": [],
   "source": [
    "from psycopg2 import sql\n",
    "from contextlib import contextmanager\n",
    "from create_connections import get_connection\n",
    "\n",
    "@contextmanager\n",
    "def get_cursor(connection):\n",
    "    \"\"\"Yield a cursor for using\"\"\"\n",
    "    with connection:\n",
    "        with connection.cursor() as cursor:\n",
    "            yield cursor\n",
    "\n",
    "client_name = \"bobo8\"\n",
    "client_identification = \"client_idf\"\n",
    "client_address = \"somewhere\"\n",
    "client_email = \"clients;\"\"DROP TABLE clients\"\n",
    "\n",
    "\n",
    "introduction = {\n",
    "                \"client_name\": client_name,\n",
    "                \"client_identification\": client_identification,\n",
    "                \"client_address\": client_address,\n",
    "                \"client_email\": client_email,\n",
    "            }\n",
    "\n",
    "choices = \"client_name, client_identification, client_address, client_email\"\n",
    "values = (client_name, client_identification, client_address, client_email)\n",
    "# items = list(introduction.keys())\n",
    "# print(items)\n",
    "# values = introduction.items()\n",
    "def query_insert_clients(table_name, choices, values):\n",
    "    query = sql.SQL(\"\"\"INSERT INTO {table} {choices} VALUES ({values}) \"\"\")\n",
    "    return query.format(table = sql.Identifier(table_name), choices=sql.Literal(choices), values=sql.Literal(values))\n",
    "    # return query.format(table=sql.Identifier(table_name), items=)\n",
    "\n",
    "def insert_clients(connection, table_name, choices, values):\n",
    "    with get_cursor(connection) as cursor:\n",
    "        cursor.execute(query_insert_clients(table_name, choices, values))\n",
    "\n",
    "def insert_clients_table(table_name, choices, values):\n",
    "    with get_connection() as connection:\n",
    "        insert_clients(connection, table_name, choices, values)\n",
    "\n",
    "# insert_clients_table(\"clients\", items, values)\n",
    "def func(table_name, choices, values):\n",
    "    with get_connection() as connection:\n",
    "        with get_cursor(connection) as cursor:\n",
    "            cursor.execute(sql.SQL(f\"INSERT INTO {table_name} ({choices}) VALUES {values}\"))\n",
    "\n",
    "\n",
    "def func2(table_name, **introduction):\n",
    "    with get_connection() as connection:\n",
    "        with get_cursor(connection) as cursor:\n",
    "            query = \"INSERT INTO {table} {introduction} VALUES (%(introduction)s)\"\n",
    "            query = query.format(table=sql.Identifier(table_name), introduction=(sql.Identifier(introduction)))\n",
    "            cursor.execute(query)\n",
    "func(\"clients\", choices, values)\n",
    "# insert_clients_table(\"clients\", choices, values)\n",
    "# func2(\"clients\", **introduction)"
   ]
  },
  {
   "cell_type": "code",
   "execution_count": null,
   "metadata": {},
   "outputs": [],
   "source": [
    "introduction = {\n",
    "                \"client_name\": client_name,\n",
    "                \"client_identification\": client_identification,\n",
    "                \"client_address\": client_address,\n",
    "                \"client_email\": client_email,\n",
    "            }\n",
    "\n",
    "def func1(n):\n",
    "    print(n)\n",
    "\n",
    "values= introduction.keys()\n",
    "print(values)\n",
    "\n",
    "# print(list(map(func1, introduction)))\n",
    "for i, (e, j) in enumerate(introduction.items()):\n",
    "    print(i, e, j)\n"
   ]
  },
  {
   "cell_type": "code",
   "execution_count": null,
   "metadata": {},
   "outputs": [],
   "source": [
    "# it works !!!!!!!!!!!!!!!!!\n",
    "table_name = \"contact_person_table\"\n",
    "person_name = \"Vasile client 1\"\n",
    "person_phone = \"00000\"\n",
    "person_email = \"email\"\n",
    "departament = \"dep\"\n",
    "idx = \"3\"\n",
    "\n",
    "items = {\n",
    "    \"table_name\" : table_name,\n",
    "    \"choices\": \"(person_name, person_phone, person_email, departament)\",\n",
    "    \"values\": (person_name, person_phone, person_email, departament),\n",
    "    \"set_item\": \"id\",\n",
    "    \"set_item_value\" : idx\n",
    "\n",
    "}\n",
    "\n",
    "def query_update_table(table_name, choices, values, set_item, set_item_value):\n",
    "    return sql.SQL(\n",
    "        f\"UPDATE {table_name} SET {choices}={values} WHERE {set_item} = {set_item_value} \"\n",
    "    )\n",
    "\n",
    "\n",
    "def update_table_q(connection, table_name, choices, values, set_item, set_item_value):\n",
    "    with get_cursor(connection) as cursor:\n",
    "        cursor.execute(\n",
    "            query_update_table(table_name, choices, values, set_item, set_item_value)\n",
    "        )\n",
    "\n",
    "def update_table(items):\n",
    "    with get_connection() as connection:\n",
    "        update_table_q(\n",
    "            connection, **items\n",
    "        )\n",
    "\n",
    "update_table(items)\n"
   ]
  },
  {
   "cell_type": "code",
   "execution_count": null,
   "metadata": {},
   "outputs": [],
   "source": [
    "import os\n",
    "\n",
    "app_folder = \"Business_Helper\"\n",
    "parent_directory = R\"C:\\Users\\$USERNAME\"\n",
    "parent_directory = os.path.expandvars(parent_directory)\n",
    "print(parent_directory)\n",
    "\n",
    "app_path3 = os.path.join(parent_directory, app_folder)\n",
    "print(app_path3)\n",
    "os.makedirs(app_path3)"
   ]
  },
  {
   "cell_type": "code",
   "execution_count": null,
   "metadata": {},
   "outputs": [],
   "source": [
    "items = {\n",
    "    \"key1\": \"value1\",\n",
    "    \"key2\": \"value2\",\n",
    "    \"key3\": \"value3\"\n",
    "}\n",
    "\n",
    "# for b in items.items():\n",
    "#     for c, d in enumerate(b):\n",
    "#         print(c, d)\n",
    "\n",
    "for b in items.items():\n",
    "    print(b[0], b[1] )"
   ]
  },
  {
   "cell_type": "code",
   "execution_count": null,
   "metadata": {},
   "outputs": [],
   "source": [
    "from operator import concat\n",
    "\n",
    "item1 = \"hello\"\n",
    "item2 = \"adasdsada21312\"\n",
    "item3 = \"@#@!@$@\"\n",
    "\n",
    "item = concat(item1, item2)\n",
    "print(item)"
   ]
  },
  {
   "cell_type": "code",
   "execution_count": null,
   "metadata": {},
   "outputs": [],
   "source": [
    "a = 0\n",
    "b = 1\n",
    "c = 2\n",
    "\n",
    "def bdiva(a, b):\n",
    "    return b/a\n",
    "\n",
    "def bplusc(b, c):\n",
    "    return b+c\n",
    "\n",
    "try:\n",
    "    res = bdiva(a, b) or bplusc(b, c)\n",
    "    print(res)\n",
    "    \n",
    "# except Exception as e:\n",
    "#     print(e)\n",
    "except:\n",
    "    pass"
   ]
  },
  {
   "cell_type": "code",
   "execution_count": 44,
   "metadata": {},
   "outputs": [
    {
     "name": "stdout",
     "output_type": "stream",
     "text": [
      "Tubulatura rectangulara\n",
      "0\n",
      "RectangularStraight\n"
     ]
    },
    {
     "data": {
      "text/plain": [
       "{3}"
      ]
     },
     "execution_count": 44,
     "metadata": {},
     "output_type": "execute_result"
    }
   ],
   "source": [
    "import items_config\n",
    "import manufactured_model\n",
    "\n",
    "\n",
    "# print(items_config.manufactured[\"RectangularEnd_cap\"])\n",
    "# print(items_config.manufactured.values())\n",
    "lst = list(items_config.manufactured.values())\n",
    "lst2 = list(items_config.manufactured)\n",
    "# print(lst)\n",
    "# print(lst2)\n",
    "obj = [1, 2, 3, 4, 5, 6, 7, 8, 9, 0, 11, 12, 13]\n",
    "\n",
    "# if \"Tubulatura rectangulara\" in items_config.manufactured.values():\n",
    "    # print(\"FOund it\")\n",
    "    # print(lst.index(\"Tubulatura rectangulara\"))\n",
    "    # print(lst2[lst.index(\"Tubulatura rectangulara\")])\n",
    "    # name = lst2[lst.index(\"Tubulatura rectangulara\")]\n",
    "name = \"Tubulatura rectangulara\"\n",
    "#     if name == \"RectangularStraight\":\n",
    "#       RectangularStraight()\n",
    "#     if name in list(items_config.manufactured):\n",
    "#         item2 = name(obj)\n",
    "\n",
    "# def return_item_type(obj):\n",
    "#     if obj == \"RectangularStraight\":\n",
    "#         return RectangularStraight(obj)\n",
    "def func():\n",
    "    if name in list(items_config.manufactured.values()): #cauta daca numele este in lista\n",
    "        print(name)\n",
    "        name_index = lst.index(name) #\n",
    "        print(name_index)\n",
    "        print(lst2[name_index])\n",
    "        return getattr(manufactured_model, lst2[name_index])(obj)\n",
    "\n",
    "x = func()\n",
    "x.item_name()\n"
   ]
  },
  {
   "cell_type": "code",
   "execution_count": null,
   "metadata": {},
   "outputs": [],
   "source": [
    "import manufactured_model\n",
    "\n",
    "def fncst(name, obj):\n",
    "    match name:\n",
    "        case \"RectangularStraight\":\n",
    "            print(\"Rectangular straight\")\n",
    "            return manufactured_model.RectangularStraight(obj)\n",
    "        case \"RectangularElbow\":\n",
    "            print(\"Rectangular Elbow\")\n",
    "\n",
    "fncst(\"RectangularStraight\", \"Wow\")"
   ]
  },
  {
   "cell_type": "code",
   "execution_count": 36,
   "metadata": {},
   "outputs": [
    {
     "name": "stdout",
     "output_type": "stream",
     "text": [
      "Tubulatura rectangulara\n"
     ]
    }
   ],
   "source": [
    "import items_config\n",
    "import manufactured_model\n",
    "\n",
    "def function_manufactured(name, obj):\n",
    "    lst = list(items_config.manufactured.values())\n",
    "    lst2 = list(items_config.manufactured)\n",
    "\n",
    "    match name:\n",
    "        case name if name == lst[0]:\n",
    "            return manufactured_model.RectangularStraight(obj)\n",
    "        case name if name == lst[1]:\n",
    "            return manufactured_model.RectangularElbow(obj)\n",
    "\n",
    "function_manufactured(\"Tubulatura rectangulara\")"
   ]
  },
  {
   "cell_type": "code",
   "execution_count": 41,
   "metadata": {},
   "outputs": [
    {
     "name": "stdout",
     "output_type": "stream",
     "text": [
      "{3}\n",
      "<manufactured_model.RectangularStraight object at 0x0000024BB9258F10>\n"
     ]
    }
   ],
   "source": [
    "import items_config\n",
    "import manufactured_model\n",
    "\n",
    "result = getattr(manufactured_model, \"RectangularStraight\")(obj)\n",
    "print(result.item_name())\n",
    "print(result)"
   ]
  },
  {
   "cell_type": "code",
   "execution_count": null,
   "metadata": {},
   "outputs": [],
   "source": [
    "\n",
    "class GenerateOffer(Object):\n",
    "    def __init__(self, obj):\n",
    "        super().__init__(obj)\n",
    "\n",
    "    def dimensions(self):\n",
    "        return [\n",
    "            self.ch_A(),\n",
    "            self.ch_B(),\n",
    "            self.ch_C(),\n",
    "            self.ch_D(),\n",
    "            self.ch_E(),\n",
    "            self.ch_F(),\n",
    "        ]\n",
    "\n",
    "    column_names = [\n",
    "        \"characteristics_a\",\n",
    "        \"characteristics_b\",\n",
    "        \"characteristics_c\",\n",
    "        \"characteristics_d\",\n",
    "        \"characteristics_e\",\n",
    "        \"characteristics_f\",\n",
    "    ]\n",
    "\n",
    "    def check(self, table_name):\n",
    "        query = f\"SELECT * FROM {table_name} WHERE characteristics_a = '{self.dimensions()[0]}' \"\n",
    "        dims = [\"a\", \"b\", \"c\", \"d\", \"e\"]\n",
    "        for i, value in enumerate(self.dimensions()):\n",
    "            if i == 0:\n",
    "                continue\n",
    "            elif value:\n",
    "                query += f\" AND characteristics_{dims[i]} = \"\n",
    "                query += f\"'{value}'\"\n",
    "                print(query)\n",
    "                print(value)\n",
    "            else:\n",
    "                print(\"not value\")\n",
    "        print(query)\n",
    "        return query\n",
    "\n",
    "    def generate_offer(self, offer):\n",
    "        for item in offer:\n",
    "            item_name = item[2]\n",
    "            # print(item)\n",
    "\n",
    "            print(item_name)\n",
    "            # try:\n",
    "            #     standard_item_area(item, item_name) or\n",
    "\n",
    "            if item_name in standard_items():\n",
    "                dimensions = list(range(item[4], item[8]))\n",
    "                print(dimensions)\n",
    "\n",
    "                \"SELECT area from item_name where ch_a = value and ch_b = value\"\n",
    "                area = database.read_row(item_name, \"dimension\", dimensions)\n",
    "                print(item_name)\n",
    "            elif item_name in manufactured_items():\n",
    "                print(item)\n",
    "            else:\n",
    "                print(f\"item not standard {item[2]}\")\n",
    "\n",
    "            # return surface area and\n"
   ]
  },
  {
   "cell_type": "code",
   "execution_count": null,
   "metadata": {},
   "outputs": [],
   "source": [
    "query = \"\"\"SELECT * FROM {table_name} WHERE dim_A = %s, dim_B = %s, dim_C = %s, dim_D = %s\"\"\""
   ]
  }
 ],
 "metadata": {
  "interpreter": {
   "hash": "1d212f58d6b9189dfda6544e976917714d9cd212aba67e7a54acb29a03a0597e"
  },
  "kernelspec": {
   "display_name": "Python 3.10.0 ('venv_folder': venv)",
   "language": "python",
   "name": "python3"
  },
  "language_info": {
   "codemirror_mode": {
    "name": "ipython",
    "version": 3
   },
   "file_extension": ".py",
   "mimetype": "text/x-python",
   "name": "python",
   "nbconvert_exporter": "python",
   "pygments_lexer": "ipython3",
   "version": "3.10.0"
  },
  "orig_nbformat": 4
 },
 "nbformat": 4,
 "nbformat_minor": 2
}
